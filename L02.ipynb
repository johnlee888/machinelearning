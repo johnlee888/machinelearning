{
  "nbformat": 4,
  "nbformat_minor": 0,
  "metadata": {
    "kernelspec": {
      "display_name": "Python 3",
      "language": "python",
      "name": "python3"
    },
    "language_info": {
      "codemirror_mode": {
        "name": "ipython",
        "version": 3
      },
      "file_extension": ".py",
      "mimetype": "text/x-python",
      "name": "python",
      "nbconvert_exporter": "python",
      "pygments_lexer": "ipython3",
      "version": "3.6.8"
    },
    "colab": {
      "name": "L02.ipynb",
      "provenance": []
    }
  },
  "cells": [
    {
      "cell_type": "markdown",
      "metadata": {
        "id": "fvNbYpwLT1F7"
      },
      "source": [
        "Let's write a simple function to print \"hello!\" `x` times"
      ]
    },
    {
      "cell_type": "code",
      "metadata": {
        "id": "KYcxppRR5KWp"
      },
      "source": [
        "def helloworld(x):\n",
        "  for i in range(x):\n",
        "    print(\"hello!\")"
      ],
      "execution_count": 1,
      "outputs": []
    },
    {
      "cell_type": "markdown",
      "metadata": {
        "id": "Ku_mkV88T8xX"
      },
      "source": [
        "Here we'll print \"hello!\" 4 times"
      ]
    },
    {
      "cell_type": "code",
      "metadata": {
        "id": "_PSeUt9t5T54",
        "colab": {
          "base_uri": "https://localhost:8080/"
        },
        "outputId": "f73e69dd-1200-4c72-bbf9-647f9b110526"
      },
      "source": [
        "helloworld(4)"
      ],
      "execution_count": 5,
      "outputs": [
        {
          "output_type": "stream",
          "name": "stdout",
          "text": [
            "hello!\n",
            "hello!\n",
            "hello!\n",
            "hello!\n"
          ]
        }
      ]
    },
    {
      "cell_type": "markdown",
      "metadata": {
        "id": "PguHypYdUEpR"
      },
      "source": [
        "We can also perform simple arithmetic"
      ]
    },
    {
      "cell_type": "code",
      "metadata": {
        "id": "YXKQwhY6Fmsp",
        "colab": {
          "base_uri": "https://localhost:8080/"
        },
        "outputId": "b2cf76de-0e12-41b7-ae2b-ecc6ad8d41f4"
      },
      "source": [
        "4+5"
      ],
      "execution_count": 7,
      "outputs": [
        {
          "output_type": "execute_result",
          "data": {
            "text/plain": [
              "9"
            ]
          },
          "metadata": {},
          "execution_count": 7
        }
      ]
    },
    {
      "cell_type": "code",
      "metadata": {
        "id": "O9eaMfzEEJn3",
        "colab": {
          "base_uri": "https://localhost:8080/"
        },
        "outputId": "44f42b8f-a3ea-46da-862b-fd895d1e2f6c"
      },
      "source": [
        "!wget https://raw.githubusercontent.com/mlittmancs/great_courses_ml/master/data/ascii.txt\n",
        "!cat ascii.txt"
      ],
      "execution_count": 8,
      "outputs": [
        {
          "output_type": "stream",
          "name": "stdout",
          "text": [
            "--2023-11-24 21:51:03--  https://raw.githubusercontent.com/mlittmancs/great_courses_ml/master/data/ascii.txt\n",
            "Resolving raw.githubusercontent.com (raw.githubusercontent.com)... 185.199.108.133, 185.199.109.133, 185.199.110.133, ...\n",
            "Connecting to raw.githubusercontent.com (raw.githubusercontent.com)|185.199.108.133|:443... connected.\n",
            "HTTP request sent, awaiting response... 200 OK\n",
            "Length: 2025 (2.0K) [text/plain]\n",
            "Saving to: ‘ascii.txt’\n",
            "\n",
            "\rascii.txt             0%[                    ]       0  --.-KB/s               \rascii.txt           100%[===================>]   1.98K  --.-KB/s    in 0s      \n",
            "\n",
            "2023-11-24 21:51:03 (22.1 MB/s) - ‘ascii.txt’ saved [2025/2025]\n",
            "\n",
            "                                                                                \n",
            "                                                                                \n",
            "HHHHHHHHH     HHHHHHHHH                   lllllll lllllll                   !!! \n",
            "H:::::::H     H:::::::H                   l:::::l l:::::l                  !!:!!\n",
            "H:::::::H     H:::::::H                   l:::::l l:::::l                  !:::!\n",
            "HH::::::H     H::::::HH                   l:::::l l:::::l                  !:::!\n",
            "  H:::::H     H:::::H      eeeeeeeeeeee    l::::l  l::::l    ooooooooooo   !:::!\n",
            "  H:::::H     H:::::H    ee::::::::::::ee  l::::l  l::::l  oo:::::::::::oo !:::!\n",
            "  H::::::HHHHH::::::H   e::::::eeeee:::::eel::::l  l::::l o:::::::::::::::o!:::!\n",
            "  H:::::::::::::::::H  e::::::e     e:::::el::::l  l::::l o:::::ooooo:::::o!:::!\n",
            "  H:::::::::::::::::H  e:::::::eeeee::::::el::::l  l::::l o::::o     o::::o!:::!\n",
            "  H::::::HHHHH::::::H  e:::::::::::::::::e l::::l  l::::l o::::o     o::::o!:::!\n",
            "  H:::::H     H:::::H  e::::::eeeeeeeeeee  l::::l  l::::l o::::o     o::::o!!:!!\n",
            "  H:::::H     H:::::H  e:::::::e           l::::l  l::::l o::::o     o::::o !!! \n",
            "HH::::::H     H::::::HHe::::::::e         l::::::ll::::::lo:::::ooooo:::::o     \n",
            "H:::::::H     H:::::::H e::::::::eeeeeeee l::::::ll::::::lo:::::::::::::::o !!! \n",
            "H:::::::H     H:::::::H  ee:::::::::::::e l::::::ll::::::l oo:::::::::::oo !!:!!\n",
            "HHHHHHHHH     HHHHHHHHH    eeeeeeeeeeeeee llllllllllllllll   ooooooooooo    !!! \n",
            "                                                                                \n",
            "                                                                                \n",
            "                                                                                \n",
            "                                                                                \n",
            "                                                                                \n",
            "                                                                                \n",
            "                                                                                \n"
          ]
        }
      ]
    },
    {
      "cell_type": "code",
      "metadata": {
        "id": "fLvnv4lNEKgg",
        "colab": {
          "base_uri": "https://localhost:8080/"
        },
        "outputId": "5e2ea0b4-122c-4448-e9f1-678b2c072921"
      },
      "source": [
        "print(\"hello!\")"
      ],
      "execution_count": 9,
      "outputs": [
        {
          "output_type": "stream",
          "name": "stdout",
          "text": [
            "hello!\n"
          ]
        }
      ]
    }
  ]
}